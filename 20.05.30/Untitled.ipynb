{
 "cells": [
  {
   "cell_type": "code",
   "execution_count": 1,
   "metadata": {},
   "outputs": [],
   "source": [
    "import numpy as np\n",
    "from scipy import stats\n",
    "import pandas as pd\n",
    "import matplotlib.pyplot as plt"
   ]
  },
  {
   "cell_type": "code",
   "execution_count": 4,
   "metadata": {},
   "outputs": [],
   "source": [
    "rawData = pd.read_csv(\"offset.csv\")\n",
    "normal = rawData['normal']\n",
    "abnormal = rawData['abnormal']"
   ]
  },
  {
   "cell_type": "code",
   "execution_count": 7,
   "metadata": {},
   "outputs": [
    {
     "name": "stdout",
     "output_type": "stream",
     "text": [
      "평균값 :  0.27805031232773114\n",
      "중앙값 :  0.264775192\n",
      "<class 'numpy.float64'> <class 'numpy.int32'>\n",
      "최빈값 :  0.091218436 ( 3 )\n"
     ]
    }
   ],
   "source": [
    "mean = np.mean(normal)\n",
    "median = np.median(normal)\n",
    "mode = stats.mode(normal)\n",
    "\n",
    "print(\"평균값 : \", mean)\n",
    "print(\"중앙값 : \", median)\n",
    "print(f\"최빈값 :  {mode[0][0]} ( {mode[1][0]} )\")"
   ]
  },
  {
   "cell_type": "code",
   "execution_count": 8,
   "metadata": {},
   "outputs": [
    {
     "name": "stdout",
     "output_type": "stream",
     "text": [
      "평균값 :  0.42735757162711846\n",
      "중앙값 :  nan\n",
      "최빈값 :  0.264811967 ( 3 )\n"
     ]
    }
   ],
   "source": [
    "mean = np.mean(abnormal)\n",
    "median = np.median(abnormal)\n",
    "mode = stats.mode(abnormal)\n",
    "\n",
    "print(\"평균값 : \", mean)\n",
    "print(\"중앙값 : \", median)\n",
    "print(f\"최빈값 :  {mode[0][0]} ( {mode[1][0]} )\")"
   ]
  },
  {
   "cell_type": "code",
   "execution_count": 9,
   "metadata": {},
   "outputs": [
    {
     "name": "stdout",
     "output_type": "stream",
     "text": [
      "1사분위수 :  0.165170703\n",
      "2사분위수(중앙값) :  0.264775192\n",
      "3사분위수 :  0.364382903\n",
      "4사분위수 :  0.6425872020000001 \n",
      "\n",
      "1사분위수 :  0.2657626735\n",
      "2사분위수(중앙값) :  0.407574837\n",
      "3사분위수 :  0.608895856\n",
      "4사분위수 :  0.9051673790000001 \n",
      "\n"
     ]
    }
   ],
   "source": [
    "A_Q1 = normal.quantile(0.25) \n",
    "print(\"1사분위수 : \", A_Q1)\n",
    "A_Q2 = normal.quantile(0.50)\n",
    "print(\"2사분위수(중앙값) : \", A_Q2)\n",
    "A_Q3 = normal.quantile(0.75)\n",
    "print(\"3사분위수 : \", A_Q3)\n",
    "A_Q4 = normal.quantile(1)\n",
    "print(\"4사분위수 : \", A_Q4,\"\\n\")\n",
    "\n",
    "B_Q1 = abnormal.quantile(0.25)\n",
    "print(\"1사분위수 : \", B_Q1)\n",
    "B_Q2 = abnormal.quantile(0.50)\n",
    "print(\"2사분위수(중앙값) : \", B_Q2)\n",
    "B_Q3 = abnormal.quantile(0.75)\n",
    "print(\"3사분위수 : \", B_Q3)\n",
    "B_Q4 = abnormal.quantile(1)\n",
    "print(\"4사분위수 : \", B_Q4,\"\\n\")"
   ]
  },
  {
   "cell_type": "code",
   "execution_count": 11,
   "metadata": {},
   "outputs": [
    {
     "data": {
      "image/png": "[encoded data removed]",
      "text/plain": [
       "<Figure size 432x288 with 1 Axes>"
      ]
     },
     "metadata": {
      "needs_background": "light"
     },
     "output_type": "display_data"
    },
    {
     "name": "stderr",
     "output_type": "stream",
     "text": [
      "C:\\Users\\xoxwg\\Anaconda3\\lib\\site-packages\\matplotlib\\cbook\\__init__.py:1316: RuntimeWarning: invalid value encountered in less_equal\n",
      "  wiskhi = x[x <= hival]\n",
      "C:\\Users\\xoxwg\\Anaconda3\\lib\\site-packages\\matplotlib\\cbook\\__init__.py:1323: RuntimeWarning: invalid value encountered in greater_equal\n",
      "  wisklo = x[x >= loval]\n",
      "C:\\Users\\xoxwg\\Anaconda3\\lib\\site-packages\\matplotlib\\cbook\\__init__.py:1331: RuntimeWarning: invalid value encountered in less\n",
      "  x[x < stats['whislo']],\n",
      "C:\\Users\\xoxwg\\Anaconda3\\lib\\site-packages\\matplotlib\\cbook\\__init__.py:1332: RuntimeWarning: invalid value encountered in greater\n",
      "  x[x > stats['whishi']],\n"
     ]
    },
    {
     "data": {
      "image/png": "[encoded data removed]",
      "text/plain": [
       "<Figure size 432x288 with 1 Axes>"
      ]
     },
     "metadata": {
      "needs_background": "light"
     },
     "output_type": "display_data"
    }
   ],
   "source": [
    "plt.boxplot((normal))\n",
    "plt.grid()\n",
    "plt.show()\n",
    "\n",
    "plt.boxplot((abnormal))\n",
    "plt.grid()\n",
    "plt.show()"
   ]
  },
  {
   "cell_type": "code",
   "execution_count": 12,
   "metadata": {},
   "outputs": [
    {
     "name": "stdout",
     "output_type": "stream",
     "text": [
      "IQR :  0.34313318249999997\n",
      "STEP1_b :  0.51469977375\n",
      "IQR :  0.19921219999999998\n",
      "STEP1 :  0.2988183\n"
     ]
    }
   ],
   "source": [
    "IQR_b = B_Q3-B_Q1 # 사분범위 계산\n",
    "print(\"IQR : \", IQR_b)\n",
    "STEP1_b = IQR_b * 1.5 # 사분범위에 1.5를 곱한다\n",
    "print(\"STEP1_b : \", STEP1_b)\n",
    "\n",
    "IQR_a = A_Q3-A_Q1 # 사분범위 계산\n",
    "print(\"IQR : \", IQR_a)\n",
    "STEP1_a = IQR_a * 1.5 # 사분범위에 1.5를 곱한다\n",
    "print(\"STEP1 : \", STEP1_a)"
   ]
  },
  {
   "cell_type": "code",
   "execution_count": 13,
   "metadata": {},
   "outputs": [
    {
     "name": "stdout",
     "output_type": "stream",
     "text": [
      "-0.24893710025\n",
      "-0.13364759699999998\n"
     ]
    }
   ],
   "source": [
    "Lower_fence_b = B_Q1 - STEP1_b # 하단 이상치 기준선은 1사분위수에서 사분범위의 1.5배값을 빼준다.\n",
    "print(Lower_fence_b) # 이 값보다 작으면 이상치로 간주\n",
    "\n",
    "Lower_fence_a = A_Q1 - STEP1_a # 하단 이상치 기준선은 1사분위수에서 사분범위의 1.5배값을 빼준다.\n",
    "print(Lower_fence_a) # 이 값보다 작으면 이상치로 간주"
   ]
  },
  {
   "cell_type": "code",
   "execution_count": 14,
   "metadata": {},
   "outputs": [
    {
     "name": "stdout",
     "output_type": "stream",
     "text": [
      "1.12359562975\n",
      "0.9077141559999999\n"
     ]
    }
   ],
   "source": [
    "Upper_fence_b = B_Q3 + STEP1_b # 상단 이상치. 3사분위수 더하기 1.5배값\n",
    "print(Upper_fence_b) # 이값보다 크면 이상치.\n",
    "\n",
    "Upper_fence_a = B_Q3 + STEP1_a # 상단 이상치. 3사분위수 더하기 1.5배값\n",
    "print(Upper_fence_a) # 이값보다 크면 이상치."
   ]
  },
  {
   "cell_type": "code",
   "execution_count": 18,
   "metadata": {},
   "outputs": [
    {
     "name": "stdout",
     "output_type": "stream",
     "text": [
      "0.27805031232773114 0.42735757162711846\n",
      "0.6425872020000001 0.024581142\n",
      "0.011977602 0.9051673790000001\n"
     ]
    }
   ],
   "source": [
    "for index, i in enumerate(normal):\n",
    "  if (i > Upper_fence_a or i < Lower_fence_a):\n",
    "    del normal[index]\n",
    "\n",
    "for index, i in enumerate(abnormal):\n",
    "  if (i > Upper_fence_b or i < Lower_fence_b):\n",
    "    del abnormal[index]\n",
    "\n",
    "# print(normal, abnormal)\n",
    "print(np.mean(normal), np.mean(abnormal))\n",
    "print(max(normal), min(abnormal))\n",
    "print(min(normal), max(abnormal))"
   ]
  },
  {
   "cell_type": "code",
   "execution_count": 34,
   "metadata": {
    "scrolled": false
   },
   "outputs": [
    {
     "name": "stdout",
     "output_type": "stream",
     "text": [
      "67 55.833333333333336 %\n",
      "38 63.33333333333333 %\n",
      "avg :  59.58333333333333 %\n",
      "------ 0.31 ----------\n",
      "72 60.0 %\n",
      "37 61.66666666666667 %\n",
      "avg :  60.833333333333336 %\n",
      "------ 0.32 ----------\n",
      "75 62.5 %\n",
      "37 61.66666666666667 %\n",
      "avg :  62.083333333333336 %\n",
      "------ 0.33 ----------\n",
      "81 67.5 %\n",
      "35 58.333333333333336 %\n",
      "avg :  62.91666666666667 %\n",
      "------ 0.34 ----------\n",
      "82 68.33333333333333 %\n",
      "35 58.333333333333336 %\n",
      "avg :  63.33333333333333 %\n",
      "------ 0.35000000000000003 ----------\n",
      "85 70.83333333333334 %\n",
      "35 58.333333333333336 %\n",
      "avg :  64.58333333333334 %\n",
      "------ 0.36000000000000004 ----------\n",
      "87 72.5 %\n",
      "35 58.333333333333336 %\n",
      "avg :  65.41666666666667 %\n",
      "------ 0.37000000000000005 ----------\n",
      "90 75.0 %\n",
      "35 58.333333333333336 %\n",
      "avg :  66.66666666666667 %\n",
      "------ 0.38000000000000006 ----------\n",
      "93 77.5 %\n",
      "35 58.333333333333336 %\n",
      "avg :  67.91666666666667 %\n",
      "------ 0.39000000000000007 ----------\n",
      "96 80.0 %\n",
      "35 58.333333333333336 %\n",
      "avg :  69.16666666666667 %\n",
      "------ 0.4000000000000001 ----------\n",
      "96 80.0 %\n",
      "35 58.333333333333336 %\n",
      "avg :  69.16666666666667 %\n",
      "------ 0.4100000000000001 ----------\n",
      "98 81.66666666666667 %\n",
      "29 48.333333333333336 %\n",
      "avg :  65.0 %\n",
      "------ 0.4200000000000001 ----------\n",
      "100 83.33333333333334 %\n",
      "29 48.333333333333336 %\n",
      "avg :  65.83333333333334 %\n",
      "------ 0.4300000000000001 ----------\n",
      "102 85.0 %\n",
      "29 48.333333333333336 %\n",
      "avg :  66.66666666666667 %\n",
      "------ 0.4400000000000001 ----------\n",
      "104 86.66666666666667 %\n",
      "29 48.333333333333336 %\n",
      "avg :  67.5 %\n",
      "------ 0.4500000000000001 ----------\n",
      "105 87.5 %\n",
      "28 46.666666666666664 %\n",
      "avg :  67.08333333333333 %\n",
      "------ 0.46000000000000013 ----------\n",
      "105 87.5 %\n",
      "27 45.0 %\n",
      "avg :  66.25 %\n",
      "------ 0.47000000000000014 ----------\n",
      "107 89.16666666666667 %\n",
      "23 38.333333333333336 %\n",
      "avg :  63.75 %\n",
      "------ 0.48000000000000015 ----------\n",
      "108 90.0 %\n",
      "23 38.333333333333336 %\n",
      "avg :  64.16666666666667 %\n",
      "------ 0.49000000000000016 ----------\n",
      "109 90.83333333333333 %\n",
      "22 36.666666666666664 %\n",
      "avg :  63.75 %\n",
      "------ 0.5000000000000001 ----------\n",
      "109 90.83333333333333 %\n",
      "22 36.666666666666664 %\n",
      "avg :  63.75 %\n",
      "------ 0.5100000000000001 ----------\n",
      "109 90.83333333333333 %\n",
      "20 33.33333333333333 %\n",
      "avg :  62.08333333333333 %\n",
      "------ 0.5200000000000001 ----------\n",
      "109 90.83333333333333 %\n",
      "20 33.33333333333333 %\n",
      "avg :  62.08333333333333 %\n",
      "------ 0.5300000000000001 ----------\n",
      "109 90.83333333333333 %\n",
      "20 33.33333333333333 %\n",
      "avg :  62.08333333333333 %\n",
      "------ 0.5400000000000001 ----------\n",
      "110 91.66666666666666 %\n",
      "20 33.33333333333333 %\n",
      "avg :  62.49999999999999 %\n",
      "------ 0.5500000000000002 ----------\n",
      "110 91.66666666666666 %\n",
      "20 33.33333333333333 %\n",
      "avg :  62.49999999999999 %\n",
      "------ 0.5600000000000002 ----------\n",
      "112 93.33333333333333 %\n",
      "18 30.0 %\n",
      "avg :  61.666666666666664 %\n",
      "------ 0.5700000000000002 ----------\n",
      "113 94.16666666666667 %\n",
      "18 30.0 %\n",
      "avg :  62.083333333333336 %\n",
      "------ 0.5800000000000002 ----------\n",
      "114 95.0 %\n",
      "18 30.0 %\n",
      "avg :  62.5 %\n",
      "------ 0.5900000000000002 ----------\n",
      "115 95.83333333333334 %\n",
      "17 28.333333333333332 %\n",
      "avg :  62.083333333333336 %\n",
      "------ 0.6000000000000002 ----------\n",
      "116 96.66666666666667 %\n",
      "17 28.333333333333332 %\n",
      "avg :  62.5 %\n",
      "------ 0.6100000000000002 ----------\n",
      "117 97.5 %\n",
      "14 23.333333333333332 %\n",
      "avg :  60.416666666666664 %\n",
      "------ 0.6200000000000002 ----------\n",
      "118 98.33333333333333 %\n",
      "13 21.666666666666668 %\n",
      "avg :  60.0 %\n",
      "------ 0.6300000000000002 ----------\n",
      "118 98.33333333333333 %\n",
      "11 18.333333333333332 %\n",
      "avg :  58.33333333333333 %\n",
      "------ 0.6400000000000002 ----------\n",
      "118 98.33333333333333 %\n",
      "11 18.333333333333332 %\n",
      "avg :  58.33333333333333 %\n",
      "------ 0.6500000000000002 ----------\n",
      "119 99.16666666666667 %\n",
      "10 16.666666666666664 %\n",
      "avg :  57.91666666666667 %\n",
      "------ 0.6600000000000003 ----------\n",
      "119 99.16666666666667 %\n",
      "9 15.0 %\n",
      "avg :  57.083333333333336 %\n",
      "------ 0.6700000000000003 ----------\n",
      "119 99.16666666666667 %\n",
      "9 15.0 %\n",
      "avg :  57.083333333333336 %\n",
      "------ 0.6800000000000003 ----------\n",
      "119 99.16666666666667 %\n",
      "8 13.333333333333334 %\n",
      "avg :  56.25 %\n",
      "------ 0.6900000000000003 ----------\n",
      "119 99.16666666666667 %\n",
      "7 11.666666666666666 %\n",
      "avg :  55.41666666666667 %\n",
      "------ 0.7000000000000003 ----------\n"
     ]
    }
   ],
   "source": [
    "num = 0.3\n",
    "while(num < 0.7):\n",
    "    cnt_a = 0\n",
    "    \n",
    "    for i in normal:\n",
    "        if (i < num):\n",
    "            cnt_a += 1\n",
    "    print(cnt_a, cnt_a/120*100,\"%\")\n",
    "    cnt_b = 0\n",
    "    for i in abnormal:\n",
    "        if (i > num):\n",
    "            cnt_b += 1\n",
    "    print(cnt_b, cnt_b/60*100,\"%\")\n",
    "    num += 0.01\n",
    "    print(\"avg : \", (cnt_a/120*100+cnt_b/60*100)/2, \"%\")\n",
    "    print(\"------\",num,\"----------\")\n"
   ]
  },
  {
   "cell_type": "code",
   "execution_count": 16,
   "metadata": {},
   "outputs": [
    {
     "name": "stderr",
     "output_type": "stream",
     "text": [
      "C:\\Users\\xoxwg\\Anaconda3\\lib\\site-packages\\matplotlib\\cbook\\__init__.py:1316: RuntimeWarning: invalid value encountered in less_equal\n",
      "  wiskhi = x[x <= hival]\n",
      "C:\\Users\\xoxwg\\Anaconda3\\lib\\site-packages\\matplotlib\\cbook\\__init__.py:1323: RuntimeWarning: invalid value encountered in greater_equal\n",
      "  wisklo = x[x >= loval]\n",
      "C:\\Users\\xoxwg\\Anaconda3\\lib\\site-packages\\matplotlib\\cbook\\__init__.py:1331: RuntimeWarning: invalid value encountered in less\n",
      "  x[x < stats['whislo']],\n",
      "C:\\Users\\xoxwg\\Anaconda3\\lib\\site-packages\\matplotlib\\cbook\\__init__.py:1332: RuntimeWarning: invalid value encountered in greater\n",
      "  x[x > stats['whishi']],\n"
     ]
    },
    {
     "data": {
      "image/png": "[encoded data removed]",
      "text/plain": [
       "<Figure size 432x288 with 1 Axes>"
      ]
     },
     "metadata": {
      "needs_background": "light"
     },
     "output_type": "display_data"
    }
   ],
   "source": [
    "plt.boxplot((normal, abnormal))\n",
    "plt.grid()\n",
    "plt.show()"
   ]
  },
  {
   "cell_type": "code",
   "execution_count": null,
   "metadata": {},
   "outputs": [],
   "source": []
  }
 ],
 "metadata": {
  "kernelspec": {
   "display_name": "Python 3",
   "language": "python",
   "name": "python3"
  },
  "language_info": {
   "codemirror_mode": {
    "name": "ipython",
    "version": 3
   },
   "file_extension": ".py",
   "mimetype": "text/x-python",
   "name": "python",
   "nbconvert_exporter": "python",
   "pygments_lexer": "ipython3",
   "version": "3.7.6"
  }
 },
 "nbformat": 4,
 "nbformat_minor": 4
}
