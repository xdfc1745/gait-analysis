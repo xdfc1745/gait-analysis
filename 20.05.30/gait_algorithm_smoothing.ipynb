{
 "cells": [
  {
   "cell_type": "code",
   "execution_count": 1,
   "metadata": {},
   "outputs": [],
   "source": [
    "import numpy as np\n",
    "import matplotlib.pyplot as plt\n",
    "import pylab as plt\n",
    "import statsmodels.api as sm\n",
    "import pandas as pd\n",
    "import csv\n",
    "import math\n",
    "import plotly.graph_objects as go\n",
    "\n",
    "\n",
    "from pandas import DataFrame, Series\n",
    "from sklearn.preprocessing import MinMaxScaler\n",
    "from  scipy.stats import norm\n",
    "from scipy.signal import find_peaks\n",
    "\n",
    "%matplotlib inline\n",
    "\n",
    "from scipy.signal import savgol_filter"
   ]
  },
  {
   "cell_type": "code",
   "execution_count": 2,
   "metadata": {},
   "outputs": [],
   "source": [
    "def normalization(columns): # -1~1사이의 값으로 정규화\n",
    "    MinMax = (columns - columns.min(axis=0)) / (columns.max(axis=0) - columns.min(axis=0))\n",
    "    MinMax = (MinMax * 2) \n",
    "    MinMax\n",
    "    return MinMax"
   ]
  },
  {
   "cell_type": "code",
   "execution_count": 3,
   "metadata": {},
   "outputs": [],
   "source": [
    "def SVM(x, y, z):\n",
    "    svm = []\n",
    "    for i in range(0, len(x)):\n",
    "        svm.append(math.sqrt(x[i]*x[i]+y[i]*y[i]+z[i]*z[i]))\n",
    "    return svm"
   ]
  },
  {
   "cell_type": "code",
   "execution_count": 4,
   "metadata": {},
   "outputs": [],
   "source": [
    "def LPF(svm):\n",
    "#     rawData['targetData'] = rawData['AccY']\n",
    "    result = []\n",
    "    ts = 0.01 # 100Hz\n",
    "    tau = 0.1\n",
    "#     print_graph(rawData['targetData'], 50)\n",
    "#     print(rawData['targetData'])\n",
    "#     tmpResult = Series(np.zeros(len(rawData.targetData)))\n",
    "#     tmpResult[0] = rawData.targetData[0]\n",
    "    tmpResult = Series(np.zeros(len(svm)))\n",
    "    tmpResult[0] = svm[0]\n",
    "\n",
    "    for i in np.arange(1, len(svm)):\n",
    "        tmpResult[i] = (tau*tmpResult[i-1] + ts * svm[i]) / (ts + tau)\n",
    "\n",
    "    result = tmpResult\n",
    "\n",
    "#     plt.plot(rawData.SampleRate, rawData.targetData, '#afafaf',  rawData.SampleRate, rawData.LPF_X, 'b')\n",
    "#     plt.grid(True)\n",
    "#     plt.show()\n",
    "#     print(rawData)\n",
    "    return result"
   ]
  },
  {
   "cell_type": "code",
   "execution_count": 5,
   "metadata": {},
   "outputs": [],
   "source": [
    "def print_graph(MinMax, num): # num is cut range\n",
    "    length = len(MinMax)\n",
    "    plt.figure(figsize=(20, 5)) # graph size\n",
    "    plt.xticks(np.arange(0, length+1, num))\n",
    "    plt.plot(MinMax)\n",
    "    plt.show()"
   ]
  },
  {
   "cell_type": "code",
   "execution_count": 6,
   "metadata": {},
   "outputs": [],
   "source": [
    "def cut_count(MinMax, cnt): # 왼발, 오른발의 데이터를 잘라서 구분 cnt = peak array\n",
    "    step = []\n",
    "#     print(MinMax)\n",
    "    for i in range(1, len(cnt)):\n",
    "        step.append(MinMax[cnt[i-1]:cnt[i]])\n",
    "    return step"
   ]
  },
  {
   "cell_type": "code",
   "execution_count": 22,
   "metadata": {},
   "outputs": [],
   "source": [
    "def ACF(step, cnt): #자기상관계수 구하는 함수, cnt = 한발에 들어가는 데이터의 수\n",
    "    answer = 0\n",
    "    acf = []\n",
    "    num = 1\n",
    "    for i in step:\n",
    "        answer = 0\n",
    "#         answer = np.linalg.norm(i)\n",
    "        for j in i:\n",
    "#             print(j)\n",
    "            answer = answer + j*j\n",
    "        answer = answer / cnt[num]\n",
    "        num += 1\n",
    "#         print(answer)\n",
    "        acf.append(answer)\n",
    "    return acf"
   ]
  },
  {
   "cell_type": "code",
   "execution_count": 21,
   "metadata": {},
   "outputs": [],
   "source": [
    "def compare_acf(acf): # 자기상관계수 값을 구해줌\n",
    "    num = len(acf) / 2\n",
    "    left = []\n",
    "    right = []\n",
    "    result = []\n",
    "#     print(\"acf_len : \", len(acf))\n",
    "    if (len(acf) % 2 == 0) :\n",
    "#         print(\"even\")\n",
    "        for i in range(1, len(acf), +2):\n",
    "            left.append(acf[i])\n",
    "            right.append(acf[i-1])\n",
    "#         print(left, right)\n",
    "        result = np.corrcoef(left, right)\n",
    "        result = abs(result)\n",
    "#         print(\"even\", result)\n",
    "    else :\n",
    "#         print(\"odd\")\n",
    "        for i in range(1, len(acf)-1, +2):\n",
    "            left.append(acf[i])\n",
    "            right.append(acf[i-1])\n",
    "#         print(left, right)\n",
    "        result = np.corrcoef(left, right)\n",
    "        result = abs(result)\n",
    "#         print (\"odd\", result)\n",
    "    return result"
   ]
  },
  {
   "cell_type": "code",
   "execution_count": 19,
   "metadata": {
    "scrolled": false
   },
   "outputs": [],
   "source": [
    "def main(rawData):\n",
    "    x_data = rawData['AccX']\n",
    "    y_data = rawData['AccY']\n",
    "    z_data = rawData['AccZ']\n",
    "    svm = SVM(x_data, y_data, z_data)\n",
    "    lpf = LPF(svm)\n",
    "    yhat = normalization(savgol_filter(lpf, 51, 3)) # window size 51, polynomial order 3\n",
    "    # print_graph(yn, 50)\n",
    "#     print_graph(yhat, 50)\n",
    "\n",
    "\n",
    "    indices = find_peaks(yhat)[0]\n",
    "    temp = []\n",
    "    for i in indices :\n",
    "        if (yhat[i] > 1.2):\n",
    "            temp.append(i)\n",
    "    peak = [temp[0]]\n",
    "    for i in range(1, len(temp)):\n",
    "        if (temp[i]-temp[i-1] > 30):\n",
    "            peak.append(temp[i])\n",
    "#     print(\"peak : \", peak)\n",
    "\n",
    "    fig = go.Figure()\n",
    "    fig.add_trace(go.Scatter(\n",
    "        y=yhat,\n",
    "        mode='lines+markers',\n",
    "        name='Original Plot'\n",
    "    ))\n",
    "\n",
    "    fig.add_trace(go.Scatter(\n",
    "        x=peak,\n",
    "        y=[yhat[j] for j in peak],\n",
    "        mode='markers',\n",
    "        marker=dict(\n",
    "            size=8,\n",
    "            color='red',\n",
    "            symbol='cross'\n",
    "        ),\n",
    "        name='Detected Peaks'\n",
    "    ))\n",
    "\n",
    "#     fig.show()\n",
    "    distance = []\n",
    "    value = 0\n",
    "    for i in range(1, len(peak)):\n",
    "        if (peak[i]-peak[i-1] > 30):\n",
    "            distance.append(peak[i]-peak[i-1])\n",
    "#     print(\"distance : \", distance)\n",
    "\n",
    "    step = cut_count(yhat, peak)\n",
    "#     print(\"step_len : \", len(step))\n",
    "    acf = ACF(step, peak)\n",
    "#     print(acf)\n",
    "    compare = compare_acf(acf)\n",
    "#     print(compare)\n",
    "\n",
    "    result = True\n",
    "    if (compare[0][1] > 0.6):\n",
    "        result=  True\n",
    "    else : result = False\n",
    "    if (result == True):\n",
    "        print('\\033[34m', result, '\\033[0m', compare[0][1])\n",
    "    else : print('\\033[31m', result, '\\033[0m', compare[0][1])"
   ]
  },
  {
   "cell_type": "code",
   "execution_count": 25,
   "metadata": {},
   "outputs": [
    {
     "name": "stdout",
     "output_type": "stream",
     "text": [
      "\u001b[34m True \u001b[0m 1.0\n",
      "\u001b[34m True \u001b[0m 1.0\n",
      "\u001b[34m True \u001b[0m 1.0\n",
      "\u001b[34m True \u001b[0m 0.8396863519190217\n",
      "\u001b[34m True \u001b[0m 0.9957386549756645\n"
     ]
    }
   ],
   "source": [
    "for i in range(0, 5):\n",
    "    rawData = pd.read_csv(f'abnormal/abnormalWalk{i}.csv')\n",
    "    main(rawData)"
   ]
  },
  {
   "cell_type": "code",
   "execution_count": 11,
   "metadata": {},
   "outputs": [
    {
     "data": {
      "image/png": "[encoded data removed]",
      "text/plain": [
       "<Figure size 1440x360 with 1 Axes>"
      ]
     },
     "metadata": {
      "needs_background": "light"
     },
     "output_type": "display_data"
    },
    {
     "ename": "NameError",
     "evalue": "name 'go' is not defined",
     "output_type": "error",
     "traceback": [
      "\u001b[1;31m---------------------------------------------------------------------------\u001b[0m",
      "\u001b[1;31mNameError\u001b[0m                                 Traceback (most recent call last)",
      "\u001b[1;32m<ipython-input-11-25bc1bf90a0c>\u001b[0m in \u001b[0;36m<module>\u001b[1;34m\u001b[0m\n\u001b[0;32m     12\u001b[0m         \u001b[0mpeak\u001b[0m\u001b[1;33m.\u001b[0m\u001b[0mappend\u001b[0m\u001b[1;33m(\u001b[0m\u001b[0mi\u001b[0m\u001b[1;33m)\u001b[0m\u001b[1;33m\u001b[0m\u001b[1;33m\u001b[0m\u001b[0m\n\u001b[0;32m     13\u001b[0m \u001b[1;33m\u001b[0m\u001b[0m\n\u001b[1;32m---> 14\u001b[1;33m \u001b[0mfig\u001b[0m \u001b[1;33m=\u001b[0m \u001b[0mgo\u001b[0m\u001b[1;33m.\u001b[0m\u001b[0mFigure\u001b[0m\u001b[1;33m(\u001b[0m\u001b[1;33m)\u001b[0m\u001b[1;33m\u001b[0m\u001b[1;33m\u001b[0m\u001b[0m\n\u001b[0m\u001b[0;32m     15\u001b[0m fig.add_trace(go.Scatter(\n\u001b[0;32m     16\u001b[0m     \u001b[0my\u001b[0m\u001b[1;33m=\u001b[0m\u001b[0myhat\u001b[0m\u001b[1;33m,\u001b[0m\u001b[1;33m\u001b[0m\u001b[1;33m\u001b[0m\u001b[0m\n",
      "\u001b[1;31mNameError\u001b[0m: name 'go' is not defined"
     ]
    }
   ],
   "source": [
    "rawData = pd.read_csv('normal/normalWalk2.csv')\n",
    "lpf = LPF(rawData)\n",
    "yhat = normalization(savgol_filter(lpf.LPF, 51, 3)) # window size 51, polynomial order 3\n",
    "# print_graph(yn, 50)\n",
    "print_graph(yhat, 50)\n",
    "\n",
    "\n",
    "indices = find_peaks(yhat)[0]\n",
    "peak = []\n",
    "for i in indices :\n",
    "    if (yhat[i] > 1.5):\n",
    "        peak.append(i)\n",
    "\n",
    "fig = go.Figure()\n",
    "fig.add_trace(go.Scatter(\n",
    "    y=yhat,\n",
    "    mode='lines+markers',\n",
    "    name='Original Plot'\n",
    "))\n",
    "\n",
    "fig.add_trace(go.Scatter(\n",
    "    x=peak,\n",
    "    y=[yhat[j] for j in peak],\n",
    "    mode='markers',\n",
    "    marker=dict(\n",
    "        size=8,\n",
    "        color='red',\n",
    "        symbol='cross'\n",
    "    ),\n",
    "    name='Detected Peaks'\n",
    "))\n",
    "\n",
    "fig.show()"
   ]
  }
 ],
 "metadata": {
  "kernelspec": {
   "display_name": "Python 3",
   "language": "python",
   "name": "python3"
  },
  "language_info": {
   "codemirror_mode": {
    "name": "ipython",
    "version": 3
   },
   "file_extension": ".py",
   "mimetype": "text/x-python",
   "name": "python",
   "nbconvert_exporter": "python",
   "pygments_lexer": "ipython3",
   "version": "3.7.6"
  }
 },
 "nbformat": 4,
 "nbformat_minor": 4
}
