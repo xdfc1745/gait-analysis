{
 "cells": [
  {
   "cell_type": "code",
   "execution_count": 1,
   "metadata": {},
   "outputs": [],
   "source": [
    "import numpy as np\n",
    "import pandas as pd\n",
    "import matplotlib.pyplot as plt\n",
    "import csv\n",
    "import math\n",
    "\n",
    "from pandas import DataFrame, Series\n",
    "from sklearn.preprocessing import MinMaxScaler\n",
    "\n",
    "%matplotlib inline"
   ]
  },
  {
   "cell_type": "code",
   "execution_count": 2,
   "metadata": {},
   "outputs": [],
   "source": [
    "def print_graph(MinMax, num): # num is cut range\n",
    "    length = len(MinMax)\n",
    "    plt.figure(figsize=(20, 5)) # graph size\n",
    "    plt.xticks(np.arange(0, length+1, num))\n",
    "    plt.plot(MinMax)\n",
    "    plt.show()"
   ]
  },
  {
   "cell_type": "code",
   "execution_count": 3,
   "metadata": {},
   "outputs": [],
   "source": [
    "def normalization(columns): # -1~1사이의 값으로 정규화\n",
    "    MinMax = (columns - columns.min(axis=0)) / (columns.max(axis=0) - columns.min(axis=0))\n",
    "    MinMax = (MinMax * 2) - 1\n",
    "    MinMax\n",
    "    return MinMax"
   ]
  },
  {
   "cell_type": "code",
   "execution_count": 4,
   "metadata": {},
   "outputs": [],
   "source": [
    "def cut_count(MinMax, cnt): # 왼발, 오른발의 데이터를 잘라서 구분\n",
    "    count = int((len(MinMax)) / cnt)\n",
    "    step = []\n",
    "    temp = 0\n",
    "    for i in range(0, count):\n",
    "        temp = i*cnt\n",
    "        step.append(MinMax[temp:temp+cnt])\n",
    "    return step"
   ]
  },
  {
   "cell_type": "code",
   "execution_count": 5,
   "metadata": {},
   "outputs": [],
   "source": [
    "def ACF(step, cnt): #자기상관계수 구하는 함수 cnt = 한발에 들어가는 데이터의 수\n",
    "    answer = 0\n",
    "    acf = []\n",
    "    for i in step:\n",
    "        answer = 0\n",
    "#         answer = np.linalg.norm(i)\n",
    "        for j in i:\n",
    "#             print(j)\n",
    "            answer = answer + j*j\n",
    "        answer = answer / cnt\n",
    "#         print(answer)\n",
    "        acf.append(answer)\n",
    "    return acf"
   ]
  },
  {
   "cell_type": "code",
   "execution_count": 6,
   "metadata": {},
   "outputs": [],
   "source": [
    "def compare_acf(acf): # 자기상관계수 값을 구해줌\n",
    "    num = len(acf) / 2\n",
    "    left = []\n",
    "    right = []\n",
    "    result = []\n",
    "    for i in range(1, len(acf), +2):\n",
    "        left.append(acf[i])\n",
    "        right.append(acf[i-1])\n",
    "    result = np.corrcoef(left, right)\n",
    "    result = abs(result)\n",
    "#     print (result)\n",
    "    return result"
   ]
  },
  {
   "cell_type": "code",
   "execution_count": 7,
   "metadata": {},
   "outputs": [],
   "source": [
    "def seperate_z(x) :\n",
    "    if (x < 0.6):\n",
    "        return False\n",
    "    else : return True"
   ]
  },
  {
   "cell_type": "code",
   "execution_count": 8,
   "metadata": {},
   "outputs": [],
   "source": [
    "def LPF(rawData):\n",
    "    rawData['targetData'] = rawData['AccZ']\n",
    "\n",
    "    ts = 0.01 # 100Hz\n",
    "    tau = 0.1\n",
    "\n",
    "    tmpResult = Series(np.zeros(len(rawData.targetData)))\n",
    "    tmpResult[0] = rawData.targetData[0]\n",
    "\n",
    "    for i in np.arange(1, len(rawData.targetData)):\n",
    "        tmpResult[i] = (tau*tmpResult[i-1] + ts * rawData.targetData[i]) / (ts + tau)\n",
    "\n",
    "    rawData['LPF'] = tmpResult\n",
    "\n",
    "#     plt.plot(rawData.SampleRate, rawData.targetData, '#afafaf',  rawData.SampleRate, rawData.LPF_X, 'b')\n",
    "#     plt.grid(True)\n",
    "#     plt.show()\n",
    "#     print(rawData)\n",
    "    return rawData"
   ]
  },
  {
   "cell_type": "code",
   "execution_count": 9,
   "metadata": {},
   "outputs": [],
   "source": [
    "def main(rawData, count):\n",
    "    LPFData = LPF(rawData)\n",
    "#     print(LPFData)\n",
    "    MinMax = normalization(LPFData['LPF'])\n",
    "#     print_graph(MinMax, 250)\n",
    "    step = cut_count(MinMax, count)\n",
    "#     print(step)\n",
    "    acf = ACF(step, count)\n",
    "#     print(acf)\n",
    "    compare = compare_acf(acf)\n",
    "#     print(compare)\n",
    "    result = True\n",
    "    if (compare[0][1] > 0.6):\n",
    "        result=  True\n",
    "    else : result = False\n",
    "    if (result == True):\n",
    "        print('\\033[34m', result, '\\033[0m', compare[0][1])\n",
    "    else : print('\\033[31m', result, '\\033[0m', compare[0][1])"
   ]
  },
  {
   "cell_type": "code",
   "execution_count": 15,
   "metadata": {
    "scrolled": false
   },
   "outputs": [
    {
     "name": "stdout",
     "output_type": "stream",
     "text": [
      "\u001b[31m False \u001b[0m 0.2934633794432357\n",
      "\u001b[31m False \u001b[0m 0.2240720624881119\n",
      "\u001b[31m False \u001b[0m 0.1328980101292385\n",
      "\u001b[34m True \u001b[0m 0.6674790123616903\n",
      "\u001b[31m False \u001b[0m 0.050415466926580915\n",
      "\u001b[34m True \u001b[0m 0.7158028749872866\n",
      "\u001b[31m False \u001b[0m 0.1197535797150948\n",
      "\u001b[34m True \u001b[0m 0.8625754772417213\n",
      "\u001b[31m False \u001b[0m 0.14074240238739003\n",
      "\u001b[31m False \u001b[0m 0.02291660952515961\n"
     ]
    }
   ],
   "source": [
    "for i in range(0, 10):\n",
    "    count = 0\n",
    "    rawData = pd.read_csv(f'normal1/normalWalk{i}.csv')\n",
    "    columns = rawData[['AccX', 'AccY', 'AccZ']]\n",
    "    step_count = rawData['stepCount']\n",
    "    for i in range(0, len(step_count)) :\n",
    "        if (step_count[i] == 0) : \n",
    "            count = i\n",
    "            break\n",
    "#     print(round(len(step_count)/count))\n",
    "    main(columns, round(len(step_count)/count))\n",
    "# rawData = pd.read_csv('normal/normalWalk.csv')\n",
    "#     columns = rawData[['AccX', 'AccY', 'AccZ']]\n",
    "#     step_count = rawData['stepCount']\n",
    "#     for i in range(0, len(step_count)) :\n",
    "#         if (step_count[i] == 0) : \n",
    "#             count = i\n",
    "#             break\n",
    "# #     print(round(len(step_count)/count))\n",
    "#     main(columns, round(len(step_count)/count))"
   ]
  },
  {
   "cell_type": "code",
   "execution_count": 87,
   "metadata": {
    "scrolled": false
   },
   "outputs": [
    {
     "name": "stdout",
     "output_type": "stream",
     "text": [
      "\u001b[31m False \u001b[0m 0.25498365223088426\n",
      "235\n",
      "\u001b[31m False \u001b[0m 0.18792281141838932\n",
      "187\n",
      "\u001b[31m False \u001b[0m 0.5089077315694428\n",
      "107\n",
      "\u001b[34m True \u001b[0m 0.7900517854362574\n",
      "124\n",
      "\u001b[31m False \u001b[0m 0.16672283785250525\n",
      "117\n",
      "\u001b[34m True \u001b[0m 1.0\n",
      "332\n",
      "\u001b[34m True \u001b[0m 0.8126779694443639\n",
      "126\n",
      "\u001b[31m False \u001b[0m 0.5239350175977812\n",
      "144\n",
      "\u001b[34m True \u001b[0m 0.6083440797757602\n",
      "125\n",
      "\u001b[34m True \u001b[0m 0.7733647282088848\n",
      "202\n"
     ]
    }
   ],
   "source": [
    "for i in range(0, 10):\n",
    "    count = 0\n",
    "    rawData = pd.read_csv(f'abnormal/abnormalWalk{i}.csv')\n",
    "    columns = rawData[['AccX', 'AccY', 'AccZ']]\n",
    "    step_count = rawData['stepCount']\n",
    "    for i in range(0, len(step_count)) :\n",
    "        if (step_count[i] == 0) : \n",
    "            count = i\n",
    "            break\n",
    "    main(columns, round(len(step_count)/count))\n",
    "    print(round(len(step_count)/count))\n",
    "# rawData = pd.read_csv('abnormal/abnormalWalk0.csv')\n",
    "# columns = rawData[['AccX', 'AccY', 'AccZ']]\n",
    "# step_count = rawData['stepCount']\n",
    "# for i in range(0, len(step_count)) :\n",
    "#     if (step_count[i] == 0) : \n",
    "#         count = i\n",
    "#         break\n",
    "# main(columns, round(len(step_count)/count))\n",
    "#     print(round(len(step_count)/count*2), count*2)"
   ]
  },
  {
   "cell_type": "code",
   "execution_count": null,
   "metadata": {},
   "outputs": [],
   "source": []
  }
 ],
 "metadata": {
  "kernelspec": {
   "display_name": "Python 3",
   "language": "python",
   "name": "python3"
  },
  "language_info": {
   "codemirror_mode": {
    "name": "ipython",
    "version": 3
   },
   "file_extension": ".py",
   "mimetype": "text/x-python",
   "name": "python",
   "nbconvert_exporter": "python",
   "pygments_lexer": "ipython3",
   "version": "3.7.6"
  }
 },
 "nbformat": 4,
 "nbformat_minor": 4
}
