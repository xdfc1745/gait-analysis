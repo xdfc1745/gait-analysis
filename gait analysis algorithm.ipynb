{
 "cells": [
  {
   "cell_type": "markdown",
   "metadata": {},
   "source": [
    "## all data to gait analyzation "
   ]
  },
  {
   "cell_type": "code",
   "execution_count": 1,
   "metadata": {},
   "outputs": [],
   "source": [
    "import pandas as pd\n",
    "import numpy as np\n",
    "import csv\n",
    "\n",
    "from matplotlib import pyplot as plt\n",
    "from sklearn.preprocessing import MinMaxScaler"
   ]
  },
  {
   "cell_type": "markdown",
   "metadata": {},
   "source": [
    "### -1~1사이의 값으로 minmax정규화"
   ]
  },
  {
   "cell_type": "code",
   "execution_count": 2,
   "metadata": {},
   "outputs": [],
   "source": [
    "def normalization(columns):\n",
    "    MinMax = (columns - columns.min(axis=0)) / (columns.max(axis=0) - columns.min(axis=0))\n",
    "    MinMax = (MinMax * 2) - 1\n",
    "    MinMax\n",
    "    return MinMax"
   ]
  },
  {
   "cell_type": "markdown",
   "metadata": {},
   "source": [
    "### 20:5크기의 그래프를 그려주는 함수"
   ]
  },
  {
   "cell_type": "code",
   "execution_count": 3,
   "metadata": {},
   "outputs": [],
   "source": [
    "def print_graph(MinMax, num): # num is cut range\n",
    "    length = len(MinMax)\n",
    "    plt.figure(figsize=(20, 5)) # graph size\n",
    "    plt.xticks(np.arange(0, length+1, num))\n",
    "    plt.plot(MinMax)\n",
    "    plt.show()"
   ]
  },
  {
   "cell_type": "markdown",
   "metadata": {},
   "source": [
    "### 한 걸음씩 잘라는주는 함수. cnt = 자르는 개수(50)"
   ]
  },
  {
   "cell_type": "code",
   "execution_count": 4,
   "metadata": {},
   "outputs": [],
   "source": [
    "def cut_count(MinMax, num, cnt):\n",
    "    count = int((len(MinMax)-num) / cnt)\n",
    "    step = []\n",
    "    temp = 0\n",
    "    for i in range(0, count):\n",
    "        temp = num+i*cnt\n",
    "        step.append(MinMax[temp:temp+cnt])\n",
    "    return step"
   ]
  },
  {
   "cell_type": "markdown",
   "metadata": {},
   "source": [
    "### 자기상관함수를 구하는 함수"
   ]
  },
  {
   "cell_type": "code",
   "execution_count": 5,
   "metadata": {},
   "outputs": [],
   "source": [
    "def ACF(step, cnt): #자기상관계수 구하는 함수 cnt = \n",
    "    answer = 0\n",
    "    acf = []\n",
    "    for i in step:\n",
    "        answer = 0\n",
    "        for j in i:\n",
    "#             print(j)\n",
    "            answer = answer + j*j\n",
    "        answer = answer / cnt\n",
    "#         print(answer)\n",
    "        acf.append(answer)\n",
    "    return acf"
   ]
  },
  {
   "cell_type": "markdown",
   "metadata": {},
   "source": [
    "### 작은 그래프를 그리는 함수 (10:5)"
   ]
  },
  {
   "cell_type": "code",
   "execution_count": 6,
   "metadata": {},
   "outputs": [],
   "source": [
    "def print_graph_small(MinMax, num): # num is cut range\n",
    "    length = len(MinMax)\n",
    "    plt.figure(figsize=(10, 5))\n",
    "    plt.xticks(np.arange(0, length+1, num))\n",
    "    plt.plot(MinMax) \n",
    "    plt.show()"
   ]
  },
  {
   "cell_type": "markdown",
   "metadata": {},
   "source": [
    "### 자기상관함수 값을 비교하는 함수"
   ]
  },
  {
   "cell_type": "code",
   "execution_count": 7,
   "metadata": {},
   "outputs": [],
   "source": [
    "def compare_acf(acf):\n",
    "    num = len(acf) / 2\n",
    "    avg = 0\n",
    "    for i in range(1, len(acf), +2):\n",
    "        if (acf[i-1] > acf[i]):\n",
    "            avg += acf[i] / acf[i-1]\n",
    "        else :\n",
    "            avg += acf[i-1]/acf[i]\n",
    "    avg = avg / num\n",
    "    return avg"
   ]
  },
  {
   "cell_type": "code",
   "execution_count": 1195,
   "metadata": {
    "scrolled": true
   },
   "outputs": [],
   "source": [
    "df = pd.read_csv('Walk2/T0_ID469355_Walk2.csv')\n",
    "columns = df[['accel_x', 'accel_y', 'accel_z']]"
   ]
  },
  {
   "cell_type": "code",
   "execution_count": 1196,
   "metadata": {},
   "outputs": [
    {
     "data": {
      "text/plain": [
       "(0.42648100347800966, 0.798329567403942, 0.8697930168202518)"
      ]
     },
     "execution_count": 1196,
     "metadata": {},
     "output_type": "execute_result"
    }
   ],
   "source": [
    "MinMax = normalization(columns)\n",
    "# print_graph(MinMax, 50)\n",
    "MinMax_x = MinMax['accel_x']\n",
    "MinMax_y = MinMax['accel_y']\n",
    "MinMax_z = MinMax['accel_z']\n",
    "\n",
    "step_x = cut_count(MinMax_x, 0, 50)\n",
    "step_y = cut_count(MinMax_y, 0, 50)\n",
    "step_z = cut_count(MinMax_z, 0, 50)\n",
    "\n",
    "acf_x = ACF(step_x, 50)\n",
    "acf_y = ACF(step_y, 50)\n",
    "acf_z = ACF(step_z, 50)\n",
    "\n",
    "compare_x = compare_acf(acf_x)\n",
    "compare_y = compare_acf(acf_y)\n",
    "compare_z = compare_acf(acf_z)\n",
    "compare_x, compare_y, compare_z"
   ]
  },
  {
   "cell_type": "code",
   "execution_count": 1197,
   "metadata": {},
   "outputs": [],
   "source": [
    "f = open('AllResult_Walk2.csv', 'a', newline='')\n",
    "wr = csv.writer(f)\n",
    "wr.writerow(['469355', compare_x, compare_y, compare_z])\n",
    "\n",
    "f.close()"
   ]
  },
  {
   "cell_type": "code",
   "execution_count": null,
   "metadata": {},
   "outputs": [],
   "source": []
  },
  {
   "cell_type": "code",
   "execution_count": 1274,
   "metadata": {},
   "outputs": [],
   "source": [
    "MinMax_x = MinMax['accel_x']\n",
    "MinMax_y = MinMax['accel_y']\n",
    "MinMax_z = MinMax['accel_z']"
   ]
  },
  {
   "cell_type": "code",
   "execution_count": 1275,
   "metadata": {},
   "outputs": [],
   "source": [
    "step_x = cut_count(MinMax_x, 0, 50)\n",
    "step_y = cut_count(MinMax_y, 0, 50)\n",
    "step_z = cut_count(MinMax_z, 0, 50)"
   ]
  },
  {
   "cell_type": "code",
   "execution_count": 1276,
   "metadata": {},
   "outputs": [],
   "source": [
    "acf_x = ACF(step_x, 50)\n",
    "acf_y = ACF(step_y, 50)\n",
    "acf_z = ACF(step_z, 50)"
   ]
  },
  {
   "cell_type": "code",
   "execution_count": 1277,
   "metadata": {},
   "outputs": [
    {
     "data": {
      "text/plain": [
       "(0.5467148722075771, 0.8629673397035424, 0.7709436141438833)"
      ]
     },
     "execution_count": 1277,
     "metadata": {},
     "output_type": "execute_result"
    }
   ],
   "source": [
    "compare_x = compare_acf(acf_x)\n",
    "compare_y = compare_acf(acf_y)\n",
    "compare_z = compare_acf(acf_z)\n",
    "compare_x, compare_y, compare_z"
   ]
  }
 ],
 "metadata": {
  "kernelspec": {
   "display_name": "Python 3",
   "language": "python",
   "name": "python3"
  },
  "language_info": {
   "codemirror_mode": {
    "name": "ipython",
    "version": 3
   },
   "file_extension": ".py",
   "mimetype": "text/x-python",
   "name": "python",
   "nbconvert_exporter": "python",
   "pygments_lexer": "ipython3",
   "version": "3.7.6"
  }
 },
 "nbformat": 4,
 "nbformat_minor": 4
}
